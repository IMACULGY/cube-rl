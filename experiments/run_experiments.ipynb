{
 "cells": [
  {
   "attachments": {},
   "cell_type": "markdown",
   "metadata": {},
   "source": [
    "# Training Experiments"
   ]
  },
  {
   "attachments": {},
   "cell_type": "markdown",
   "metadata": {},
   "source": [
    "### API\n",
    "The code for running the algorithms is located in `approx_policy_iter.py`. After each iteration we save the model parameters into `api_model.pt` and the loss parameters into `api_loss.npy` and `api_loss_human.npy`. Results are plotted in `plots.ipynb`\n",
    "\n",
    "### DQN\n",
    "The code for running the algorithms is located in `deep_q.py`. After each iteration we save the model parameters into `dqn_model.pt` and the loss parameters into `dqn_loss.npy` and `dqn_loss_human.npy`. Results are plotted in `plots.ipynb`"
   ]
  },
  {
   "attachments": {},
   "cell_type": "markdown",
   "metadata": {},
   "source": [
    "# MCTS Experiments"
   ]
  },
  {
   "cell_type": "code",
   "execution_count": null,
   "metadata": {},
   "outputs": [],
   "source": [
    "import "
   ]
  }
 ],
 "metadata": {
  "kernelspec": {
   "display_name": "Python 3",
   "language": "python",
   "name": "python3"
  },
  "language_info": {
   "name": "python",
   "version": "3.10.4 (main, Nov 29 2022, 20:00:25) [GCC 9.4.0]"
  },
  "orig_nbformat": 4,
  "vscode": {
   "interpreter": {
    "hash": "3ad933181bd8a04b432d3370b9dc3b0662ad032c4dfaa4e4f1596c548f763858"
   }
  }
 },
 "nbformat": 4,
 "nbformat_minor": 2
}
